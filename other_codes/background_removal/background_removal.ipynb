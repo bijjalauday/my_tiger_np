{
 "cells": [
  {
   "cell_type": "code",
   "execution_count": 8,
   "metadata": {},
   "outputs": [],
   "source": [
    "import os \n",
    "import shutil \n",
    "import random \n",
    "import pandas as pd \n",
    "\n",
    "l=[]\n",
    "for i in os.listdir(\"D:/cat_id/test/yolo_test/labels\"):\n",
    "    l.append(i)\n",
    "ca=0\n",
    "random.shuffle(l)\n",
    "for i in l:\n",
    "    try:\n",
    "        l1=pd.read_csv(f\"D:/cat_id/test/yolo_test/labels/{i}\",header=None,sep=\" \")\n",
    "        if l1.iloc[0].values[0]==0:\n",
    "            shutil.copy(f\"D:/cat_id/test/yolo_test/labels/{i}\",\"test_labels/\")\n",
    "            ca=ca+1\n",
    "    except:\n",
    "        c=0\n",
    "    if ca>=750:\n",
    "        break \n",
    "for i in os.listdir(\"test_labels/\"):\n",
    "    j=i.split(\".tx\")[0]\n",
    "    try:\n",
    "        shutil.copy(f\"D:/cat_id/test/yolo_test/images/{j}.jpg\",\"test_images/\")\n",
    "    except:\n",
    "        shutil.copy(f\"D:/cat_id/test/yolo_test/images/{j}.png\",\"test_images/\")\n"
   ]
  },
  {
   "cell_type": "code",
   "execution_count": null,
   "metadata": {},
   "outputs": [],
   "source": []
  },
  {
   "cell_type": "code",
   "execution_count": null,
   "metadata": {},
   "outputs": [],
   "source": []
  },
  {
   "cell_type": "code",
   "execution_count": 207,
   "metadata": {},
   "outputs": [],
   "source": [
    "from rembg import remove \n",
    "import cv2\n",
    "import matplotlib.pyplot as plt \n",
    "import numpy as np \n",
    "from PIL import Image, ImageFilter\n",
    "for i in os.listdir(\"cats/\"):\n",
    "    if \".jp\" in i:\n",
    "        j=i.split(\".jp\")[0]\n",
    "        frame=cv2.imread(f\"cats/{i}\")\n",
    "        reduced_factor=0.45\n",
    "        frame=cv2.convertScaleAbs(frame, alpha=reduced_factor, beta=0)\n",
    "        output=remove(frame)\n",
    "        output1=Image.fromarray(output)\n",
    "        shadow = output.copy()\n",
    "        shadow = Image.fromarray(output)\n",
    "        shadow = shadow.filter(ImageFilter.GaussianBlur(radius=4))\n",
    "        shadow_data = shadow.getdata()\n",
    "        shadow_data = [(r, g, b, int(a)) for r, g, b, a in shadow_data]\n",
    "        shadow.putdata(shadow_data)\n",
    "        output1.paste(shadow, (0, 0), shadow)\n",
    "        output=shadow\n",
    "        background = Image.new(\"RGB\", output.size, (255, 255, 255))\n",
    "        background.paste(output, mask=output.split()[3]) # 3 is the alpha channel\n",
    "        background.save(f'D:/cat_id/test/bg_removal/dark_and_blur/{j}_bg_dark_blur.jpg', 'JPEG', quality=80)\n",
    "        # img=cv2.imread(\"cat_6_bg.jpg\")\n",
    "        # output=cv2.convertScaleAbs(img, alpha=reduced_factor, beta=0)\n",
    "        # plt.imshow(img)\n",
    "    else:\n",
    "        j=i.split(\".pn\")[0]\n",
    "        frame=cv2.imread(f\"cats/{i}\")\n",
    "        reduced_factor=0.45\n",
    "        frame=cv2.convertScaleAbs(frame, alpha=reduced_factor, beta=0)\n",
    "        output=remove(frame)\n",
    "        output1=Image.fromarray(output)\n",
    "        shadow = output.copy()\n",
    "        shadow = Image.fromarray(output)\n",
    "        shadow = shadow.filter(ImageFilter.GaussianBlur(radius=4))\n",
    "        shadow_data = shadow.getdata()\n",
    "        shadow_data = [(r, g, b, int(a)) for r, g, b, a in shadow_data]\n",
    "        shadow.putdata(shadow_data)\n",
    "        output1.paste(shadow, (0, 0), shadow)\n",
    "        output=shadow\n",
    "        background = Image.new(\"RGB\", output.size, (255, 255, 255))\n",
    "        background.paste(output, mask=output.split()[3]) # 3 is the alpha channel\n",
    "        background.save(f'D:/cat_id/test/bg_removal/dark_and_blur/{j}_bg_dark_blur.jpg', 'JPEG', quality=80)\n",
    "        # img=cv2.imread(\"cat_6_bg.jpg\")\n",
    "        # output=cv2.convertScaleAbs(img, alpha=reduced_factor, beta=0)\n",
    "        # plt.imshow(img)"
   ]
  },
  {
   "cell_type": "code",
   "execution_count": 13,
   "metadata": {},
   "outputs": [],
   "source": [
    "for i in os.listdir(\"dark_blur_test_images\"):\n",
    "    j=i.split(\"_bg_dark_blur\")[0]\n",
    "    shutil.copy(f\"test_labels/{j}.txt\",f\"dark_blur_test_labels/{j}_bg_dark_blur.txt\")"
   ]
  },
  {
   "cell_type": "code",
   "execution_count": 14,
   "metadata": {},
   "outputs": [],
   "source": [
    "for i in os.listdir(\"nyt_vision_images\"):\n",
    "    j=i.split(\"_night\")[0]\n",
    "    shutil.copy(f\"test_labels/{j}.txt\",f\"nyt_vision_labels/{j}_night.txt\")"
   ]
  },
  {
   "cell_type": "code",
   "execution_count": 119,
   "metadata": {},
   "outputs": [],
   "source": [
    "c=0\n",
    "for i in os.listdir(\"D:/cat_id/yolov5/runs/detect/exp17/labels\"):\n",
    "    if \".txt\" in i:\n",
    "        l=pd.read_csv(f\"D:/cat_id/yolov5/runs/detect/exp17/labels/{i}\",header=None,sep=\" \")\n",
    "        if l.iloc[0].values[0]==0:\n",
    "            c=c+1"
   ]
  },
  {
   "cell_type": "code",
   "execution_count": 120,
   "metadata": {},
   "outputs": [
    {
     "data": {
      "text/plain": [
       "56"
      ]
     },
     "execution_count": 120,
     "metadata": {},
     "output_type": "execute_result"
    }
   ],
   "source": [
    "c"
   ]
  },
  {
   "cell_type": "code",
   "execution_count": 34,
   "metadata": {},
   "outputs": [
    {
     "name": "stdout",
     "output_type": "stream",
     "text": [
      "black American Ringtail cat__10_bg_dark_blur.txt\n",
      "black Bambino cat__30_bg_dark_blur.txt\n",
      "black Ragamuffin cat__13_bg_dark_blur.txt\n",
      "black Selkirk Rex cat__11_bg_dark_blur.txt\n",
      "black Selkirk Rex cat__25_bg_dark_blur.txt\n",
      "black Snowshoe cat__39_bg_dark_blur.txt\n",
      "black Somali cat cat__24_bg_dark_blur.txt\n"
     ]
    }
   ],
   "source": [
    "import os \n",
    "c=0\n",
    "for i in os.listdir(\"D:/cat_id/deep_dive/2610/bg_removal_black_dark_blur_labels\"):\n",
    "    l=pd.read_csv(f\"D:/cat_id/deep_dive/2610/bg_removal_black_dark_blur_labels/{i}\",header=None,sep=\" \")\n",
    "    c=c+1\n",
    "    if l.iloc[0].values[0]!=0:\n",
    "        print(i)"
   ]
  },
  {
   "cell_type": "code",
   "execution_count": 33,
   "metadata": {},
   "outputs": [
    {
     "data": {
      "text/plain": [
       "726"
      ]
     },
     "execution_count": 33,
     "metadata": {},
     "output_type": "execute_result"
    }
   ],
   "source": [
    "c"
   ]
  },
  {
   "cell_type": "code",
   "execution_count": 41,
   "metadata": {},
   "outputs": [
    {
     "name": "stdout",
     "output_type": "stream",
     "text": [
      "28\n"
     ]
    }
   ],
   "source": [
    "import os \n",
    "c=0\n",
    "for i in os.listdir(\"D:/cat_id/yolov5/runs/detect/exp3/labels\"):\n",
    "    if \".txt\" in i:\n",
    "        l=pd.read_csv(f\"D:/cat_id/yolov5/runs/detect/exp3/labels/{i}\",header=None,sep=\" \")\n",
    "        if l.iloc[0].values[0]==0:\n",
    "            c=c+1\n",
    "print(c)"
   ]
  },
  {
   "cell_type": "code",
   "execution_count": 153,
   "metadata": {},
   "outputs": [
    {
     "data": {
      "text/html": [
       "<div>\n",
       "<style scoped>\n",
       "    .dataframe tbody tr th:only-of-type {\n",
       "        vertical-align: middle;\n",
       "    }\n",
       "\n",
       "    .dataframe tbody tr th {\n",
       "        vertical-align: top;\n",
       "    }\n",
       "\n",
       "    .dataframe thead th {\n",
       "        text-align: right;\n",
       "    }\n",
       "</style>\n",
       "<table border=\"1\" class=\"dataframe\">\n",
       "  <thead>\n",
       "    <tr style=\"text-align: right;\">\n",
       "      <th></th>\n",
       "      <th>Image</th>\n",
       "      <th>detections</th>\n",
       "      <th>IOU</th>\n",
       "      <th>Confidence</th>\n",
       "      <th>o_class</th>\n",
       "      <th>p_class</th>\n",
       "    </tr>\n",
       "  </thead>\n",
       "  <tbody>\n",
       "    <tr>\n",
       "      <th>0</th>\n",
       "      <td>00000001_012</td>\n",
       "      <td>1</td>\n",
       "      <td>0.83</td>\n",
       "      <td>0.89</td>\n",
       "      <td>0</td>\n",
       "      <td>0</td>\n",
       "    </tr>\n",
       "    <tr>\n",
       "      <th>1</th>\n",
       "      <td>00000001_027</td>\n",
       "      <td>1</td>\n",
       "      <td>0.95</td>\n",
       "      <td>0.90</td>\n",
       "      <td>0</td>\n",
       "      <td>0</td>\n",
       "    </tr>\n",
       "    <tr>\n",
       "      <th>2</th>\n",
       "      <td>00000001_029</td>\n",
       "      <td>1</td>\n",
       "      <td>0.96</td>\n",
       "      <td>0.93</td>\n",
       "      <td>0</td>\n",
       "      <td>0</td>\n",
       "    </tr>\n",
       "    <tr>\n",
       "      <th>3</th>\n",
       "      <td>00000003_009</td>\n",
       "      <td>1</td>\n",
       "      <td>0.96</td>\n",
       "      <td>0.92</td>\n",
       "      <td>0</td>\n",
       "      <td>0</td>\n",
       "    </tr>\n",
       "    <tr>\n",
       "      <th>4</th>\n",
       "      <td>00000004_003</td>\n",
       "      <td>1</td>\n",
       "      <td>0.92</td>\n",
       "      <td>0.92</td>\n",
       "      <td>0</td>\n",
       "      <td>0</td>\n",
       "    </tr>\n",
       "  </tbody>\n",
       "</table>\n",
       "</div>"
      ],
      "text/plain": [
       "          Image  detections   IOU  Confidence o_class p_class\n",
       "0  00000001_012           1  0.83        0.89       0       0\n",
       "1  00000001_027           1  0.95        0.90       0       0\n",
       "2  00000001_029           1  0.96        0.93       0       0\n",
       "3  00000003_009           1  0.96        0.92       0       0\n",
       "4  00000004_003           1  0.92        0.92       0       0"
      ]
     },
     "execution_count": 153,
     "metadata": {},
     "output_type": "execute_result"
    }
   ],
   "source": [
    "import pandas as pd \n",
    "df=pd.read_excel(\"D:/cat_id/deep_dive/0211/blur_dark_28.xlsx\")\n",
    "df.head()"
   ]
  },
  {
   "cell_type": "code",
   "execution_count": 154,
   "metadata": {},
   "outputs": [
    {
     "data": {
      "text/plain": [
       "<Axes: xlabel='Confidence', ylabel='Count'>"
      ]
     },
     "execution_count": 154,
     "metadata": {},
     "output_type": "execute_result"
    },
    {
     "data": {
      "image/png": "[encoded data removed]",
      "text/plain": [
       "<Figure size 640x480 with 1 Axes>"
      ]
     },
     "metadata": {},
     "output_type": "display_data"
    }
   ],
   "source": [
    "import seaborn as sns \n",
    "cat_df=df[df[\"o_class\"]==0]\n",
    "sns.histplot(cat_df[\"Confidence\"])"
   ]
  },
  {
   "cell_type": "code",
   "execution_count": null,
   "metadata": {},
   "outputs": [],
   "source": []
  },
  {
   "cell_type": "code",
   "execution_count": 107,
   "metadata": {},
   "outputs": [
    {
     "data": {
      "text/html": [
       "<div>\n",
       "<style scoped>\n",
       "    .dataframe tbody tr th:only-of-type {\n",
       "        vertical-align: middle;\n",
       "    }\n",
       "\n",
       "    .dataframe tbody tr th {\n",
       "        vertical-align: top;\n",
       "    }\n",
       "\n",
       "    .dataframe thead th {\n",
       "        text-align: right;\n",
       "    }\n",
       "</style>\n",
       "<table border=\"1\" class=\"dataframe\">\n",
       "  <thead>\n",
       "    <tr style=\"text-align: right;\">\n",
       "      <th></th>\n",
       "      <th>Image</th>\n",
       "      <th>detections</th>\n",
       "      <th>IOU</th>\n",
       "      <th>Confidence</th>\n",
       "      <th>o_class</th>\n",
       "      <th>p_class</th>\n",
       "    </tr>\n",
       "  </thead>\n",
       "  <tbody>\n",
       "    <tr>\n",
       "      <th>0</th>\n",
       "      <td>00000001_012</td>\n",
       "      <td>1</td>\n",
       "      <td>0.83</td>\n",
       "      <td>0.90</td>\n",
       "      <td>0</td>\n",
       "      <td>0</td>\n",
       "    </tr>\n",
       "    <tr>\n",
       "      <th>1</th>\n",
       "      <td>00000001_027</td>\n",
       "      <td>1</td>\n",
       "      <td>0.90</td>\n",
       "      <td>0.87</td>\n",
       "      <td>0</td>\n",
       "      <td>0</td>\n",
       "    </tr>\n",
       "    <tr>\n",
       "      <th>2</th>\n",
       "      <td>00000001_029</td>\n",
       "      <td>1</td>\n",
       "      <td>0.95</td>\n",
       "      <td>0.92</td>\n",
       "      <td>0</td>\n",
       "      <td>0</td>\n",
       "    </tr>\n",
       "    <tr>\n",
       "      <th>3</th>\n",
       "      <td>00000003_009</td>\n",
       "      <td>1</td>\n",
       "      <td>0.92</td>\n",
       "      <td>0.92</td>\n",
       "      <td>0</td>\n",
       "      <td>0</td>\n",
       "    </tr>\n",
       "    <tr>\n",
       "      <th>4</th>\n",
       "      <td>00000004_003</td>\n",
       "      <td>1</td>\n",
       "      <td>0.90</td>\n",
       "      <td>0.91</td>\n",
       "      <td>0</td>\n",
       "      <td>0</td>\n",
       "    </tr>\n",
       "  </tbody>\n",
       "</table>\n",
       "</div>"
      ],
      "text/plain": [
       "          Image  detections   IOU  Confidence o_class p_class\n",
       "0  00000001_012           1  0.83        0.90       0       0\n",
       "1  00000001_027           1  0.90        0.87       0       0\n",
       "2  00000001_029           1  0.95        0.92       0       0\n",
       "3  00000003_009           1  0.92        0.92       0       0\n",
       "4  00000004_003           1  0.90        0.91       0       0"
      ]
     },
     "execution_count": 107,
     "metadata": {},
     "output_type": "execute_result"
    }
   ],
   "source": [
    "import pandas as pd \n",
    "df=pd.read_excel(\"D:/cat_id/deep_dive/0911/dark_blur_50_final.xlsx\")\n",
    "df.head()"
   ]
  },
  {
   "cell_type": "code",
   "execution_count": 108,
   "metadata": {},
   "outputs": [
    {
     "data": {
      "text/plain": [
       "<Axes: xlabel='Confidence', ylabel='Count'>"
      ]
     },
     "execution_count": 108,
     "metadata": {},
     "output_type": "execute_result"
    },
    {
     "data": {
      "image/png": "[encoded data removed]",
      "text/plain": [
       "<Figure size 640x480 with 1 Axes>"
      ]
     },
     "metadata": {},
     "output_type": "display_data"
    }
   ],
   "source": [
    "import seaborn as sns \n",
    "cat_df=df[df[\"o_class\"]==0]\n",
    "sns.histplot(cat_df[\"Confidence\"])"
   ]
  },
  {
   "cell_type": "code",
   "execution_count": 392,
   "metadata": {},
   "outputs": [
    {
     "data": {
      "text/plain": [
       "<Axes: xlabel='Confidence', ylabel='Count'>"
      ]
     },
     "execution_count": 392,
     "metadata": {},
     "output_type": "execute_result"
    },
    {
     "data": {
      "image/png": "[encoded data removed]",
      "text/plain": [
       "<Figure size 640x480 with 1 Axes>"
      ]
     },
     "metadata": {},
     "output_type": "display_data"
    }
   ],
   "source": [
    "import pandas as pd \n",
    "df=pd.read_excel(\"D:/cat_id/deep_dive/0911/old_model_new_val.xlsx\")\n",
    "df[\"Confidence\"]=df[\"conf_score\"]\n",
    "import seaborn as sns \n",
    "cat_df=df[df[\"orig_class\"]==0]\n",
    "sns.histplot(cat_df[\"Confidence\"])"
   ]
  },
  {
   "cell_type": "code",
   "execution_count": 393,
   "metadata": {},
   "outputs": [
    {
     "data": {
      "text/plain": [
       "10"
      ]
     },
     "execution_count": 393,
     "metadata": {},
     "output_type": "execute_result"
    }
   ],
   "source": [
    "l=[]\n",
    "l.append(len(cat_df[cat_df[\"Confidence\"]>=0.9]))\n",
    "for i in [0.9,0.8,0.7,0.6,0.5,0.4,0.3,0.2]:\n",
    "    l.append(len(cat_df[(cat_df[\"Confidence\"]<i) & (cat_df[\"Confidence\"]>=i-0.1)]))\n",
    "l.append(len(cat_df[cat_df[\"Confidence\"]<0.1]))\n",
    "len(l)"
   ]
  },
  {
   "cell_type": "code",
   "execution_count": 394,
   "metadata": {},
   "outputs": [
    {
     "data": {
      "image/png": "[encoded data removed]",
      "text/plain": [
       "<Figure size 1400x800 with 1 Axes>"
      ]
     },
     "metadata": {},
     "output_type": "display_data"
    }
   ],
   "source": [
    "import matplotlib.pyplot as plt\n",
    "l=l[::-1]\n",
    "plt.figure(figsize=(14,8))\n",
    "ax=sns.barplot(x=[\"[0-0.1]\",\"[0.1-0.2]\",\"[0.2-0.3]\",\"[0.3-0.4]\",\"[0.4-0.5]\",\"[0.5-0.6]\",\"[0.6-0.7]\",\"[0.7-0.8]\",\"[0.8-0.9]\",\"[0.9-1]\"],y=l)\n",
    "for p in ax.patches:\n",
    "    ax.annotate(f'{p.get_height()}', (p.get_x() + p.get_width() / 2., p.get_height()), ha='center', va='center', fontsize=12, color='black', xytext=(0, 5), textcoords='offset points')"
   ]
  },
  {
   "cell_type": "code",
   "execution_count": null,
   "metadata": {},
   "outputs": [],
   "source": []
  },
  {
   "cell_type": "code",
   "execution_count": 111,
   "metadata": {},
   "outputs": [
    {
     "data": {
      "text/html": [
       "<div>\n",
       "<style scoped>\n",
       "    .dataframe tbody tr th:only-of-type {\n",
       "        vertical-align: middle;\n",
       "    }\n",
       "\n",
       "    .dataframe tbody tr th {\n",
       "        vertical-align: top;\n",
       "    }\n",
       "\n",
       "    .dataframe thead th {\n",
       "        text-align: right;\n",
       "    }\n",
       "</style>\n",
       "<table border=\"1\" class=\"dataframe\">\n",
       "  <thead>\n",
       "    <tr style=\"text-align: right;\">\n",
       "      <th></th>\n",
       "      <th>Image</th>\n",
       "      <th>detections</th>\n",
       "      <th>IOU</th>\n",
       "      <th>Confidence</th>\n",
       "      <th>o_class</th>\n",
       "      <th>p_class</th>\n",
       "    </tr>\n",
       "  </thead>\n",
       "  <tbody>\n",
       "    <tr>\n",
       "      <th>0</th>\n",
       "      <td>00000001_012</td>\n",
       "      <td>1</td>\n",
       "      <td>0.84</td>\n",
       "      <td>0.88</td>\n",
       "      <td>0</td>\n",
       "      <td>0</td>\n",
       "    </tr>\n",
       "    <tr>\n",
       "      <th>1</th>\n",
       "      <td>00000001_027</td>\n",
       "      <td>1</td>\n",
       "      <td>0.93</td>\n",
       "      <td>0.90</td>\n",
       "      <td>0</td>\n",
       "      <td>0</td>\n",
       "    </tr>\n",
       "    <tr>\n",
       "      <th>2</th>\n",
       "      <td>00000001_029</td>\n",
       "      <td>1</td>\n",
       "      <td>0.94</td>\n",
       "      <td>0.92</td>\n",
       "      <td>0</td>\n",
       "      <td>0</td>\n",
       "    </tr>\n",
       "    <tr>\n",
       "      <th>3</th>\n",
       "      <td>00000003_009</td>\n",
       "      <td>1</td>\n",
       "      <td>0.91</td>\n",
       "      <td>0.93</td>\n",
       "      <td>0</td>\n",
       "      <td>0</td>\n",
       "    </tr>\n",
       "    <tr>\n",
       "      <th>4</th>\n",
       "      <td>00000004_003</td>\n",
       "      <td>1</td>\n",
       "      <td>0.88</td>\n",
       "      <td>0.90</td>\n",
       "      <td>0</td>\n",
       "      <td>0</td>\n",
       "    </tr>\n",
       "  </tbody>\n",
       "</table>\n",
       "</div>"
      ],
      "text/plain": [
       "          Image  detections   IOU  Confidence o_class p_class\n",
       "0  00000001_012           1  0.84        0.88       0       0\n",
       "1  00000001_027           1  0.93        0.90       0       0\n",
       "2  00000001_029           1  0.94        0.92       0       0\n",
       "3  00000003_009           1  0.91        0.93       0       0\n",
       "4  00000004_003           1  0.88        0.90       0       0"
      ]
     },
     "execution_count": 111,
     "metadata": {},
     "output_type": "execute_result"
    }
   ],
   "source": [
    "import pandas as pd \n",
    "df=pd.read_excel(\"D:/cat_id/deep_dive/2610/black_cat_model_prev.xlsx\")\n",
    "df.head()"
   ]
  },
  {
   "cell_type": "code",
   "execution_count": 112,
   "metadata": {},
   "outputs": [
    {
     "data": {
      "text/plain": [
       "<Axes: xlabel='Confidence', ylabel='Count'>"
      ]
     },
     "execution_count": 112,
     "metadata": {},
     "output_type": "execute_result"
    },
    {
     "data": {
      "image/png": "[encoded data removed]",
      "text/plain": [
       "<Figure size 640x480 with 1 Axes>"
      ]
     },
     "metadata": {},
     "output_type": "display_data"
    }
   ],
   "source": [
    "import seaborn as sns \n",
    "cat_df=df[df[\"o_class\"]==0]\n",
    "sns.histplot(cat_df[\"Confidence\"])"
   ]
  },
  {
   "cell_type": "code",
   "execution_count": 11,
   "metadata": {},
   "outputs": [
    {
     "data": {
      "text/plain": [
       "10"
      ]
     },
     "execution_count": 11,
     "metadata": {},
     "output_type": "execute_result"
    }
   ],
   "source": [
    "import os\n",
    "import pandas as pd \n",
    "c=0\n",
    "for i in os.listdir(\"D:/cat_id/yolov5_training_sharing/runs/detect/exp31/labels\"):\n",
    "    if \".txt\" in i:\n",
    "        l=pd.read_csv(f\"D:/cat_id/yolov5_training_sharing/runs/detect/exp31/labels/{i}\",header=None,sep=\" \")\n",
    "        if l.iloc[0].values[0]==0:\n",
    "            if (l.iloc[0].values[5]>=0.8) & (l.iloc[0].values[5]<0.9):\n",
    "                c=c+1\n",
    "c"
   ]
  },
  {
   "cell_type": "code",
   "execution_count": 8,
   "metadata": {},
   "outputs": [
    {
     "data": {
      "text/plain": [
       "0"
      ]
     },
     "execution_count": 8,
     "metadata": {},
     "output_type": "execute_result"
    }
   ],
   "source": [
    "import os\n",
    "import pandas as pd \n",
    "c=0\n",
    "for i in os.listdir(\"D:/cat_id/yolov5_training_sharing/runs/detect/exp31/labels\"):\n",
    "    if \".txt\" in i:\n",
    "        l=pd.read_csv(f\"D:/cat_id/yolov5_training_sharing/runs/detect/exp31/labels/{i}\",header=None,sep=\" \")\n",
    "        if l.iloc[0].values[0]==0:\n",
    "            if (l.iloc[0].values[5]>=0.9):\n",
    "                c=c+1\n",
    "c"
   ]
  },
  {
   "cell_type": "code",
   "execution_count": 3,
   "metadata": {},
   "outputs": [
    {
     "data": {
      "text/plain": [
       "90"
      ]
     },
     "execution_count": 3,
     "metadata": {},
     "output_type": "execute_result"
    }
   ],
   "source": [
    "import os\n",
    "import pandas as pd \n",
    "c=0\n",
    "for i in os.listdir(\"D:/cat_id/yolov5_training_sharing/runs/detect/exp31/labels\"):\n",
    "    if \".txt\" in i:\n",
    "        l=pd.read_csv(f\"D:/cat_id/yolov5_training_sharing/runs/detect/exp31/labels/{i}\",header=None,sep=\" \")\n",
    "        if l.iloc[0].values[0]==0:\n",
    "            c=c+1\n",
    "c"
   ]
  },
  {
   "cell_type": "code",
   "execution_count": 59,
   "metadata": {},
   "outputs": [],
   "source": [
    "import os \n",
    "import shutil\n",
    "for i in os.listdir(\"D:/cat_id/yolov5/runs/detect/exp25/labels\"):\n",
    "    if \"jpg\" in i:\n",
    "        if \"no_plot\" in i:\n",
    "            shutil.copy(f\"D:/cat_id/yolov5/runs/detect/exp14/labels/{i}\",\"D:/cat_id/deep_dive/0911/detected_frames/Cat_110_Side_Eating_first_part/no_plot\")\n",
    "        else:\n",
    "            shutil.copy(f\"D:/cat_id/yolov5/runs/detect/exp14/labels/{i}\",\"D:/cat_id/deep_dive/0911/detected_frames/Cat_110_Side_Eating_first_part/plot\")"
   ]
  },
  {
   "cell_type": "code",
   "execution_count": 232,
   "metadata": {},
   "outputs": [
    {
     "data": {
      "text/html": [
       "<div>\n",
       "<style scoped>\n",
       "    .dataframe tbody tr th:only-of-type {\n",
       "        vertical-align: middle;\n",
       "    }\n",
       "\n",
       "    .dataframe tbody tr th {\n",
       "        vertical-align: top;\n",
       "    }\n",
       "\n",
       "    .dataframe thead th {\n",
       "        text-align: right;\n",
       "    }\n",
       "</style>\n",
       "<table border=\"1\" class=\"dataframe\">\n",
       "  <thead>\n",
       "    <tr style=\"text-align: right;\">\n",
       "      <th></th>\n",
       "      <th>node_seq</th>\n",
       "      <th>node_id</th>\n",
       "      <th>parent_node_id</th>\n",
       "      <th>level</th>\n",
       "      <th>node_display_name</th>\n",
       "      <th>path</th>\n",
       "      <th>node_description</th>\n",
       "      <th>node_name</th>\n",
       "      <th>version_id</th>\n",
       "      <th>new_level</th>\n",
       "      <th>leaf_nodes</th>\n",
       "    </tr>\n",
       "  </thead>\n",
       "  <tbody>\n",
       "    <tr>\n",
       "      <th>0</th>\n",
       "      <td>2001</td>\n",
       "      <td>2001</td>\n",
       "      <td>0</td>\n",
       "      <td>Level 1</td>\n",
       "      <td>Marketing</td>\n",
       "      <td>Marketing</td>\n",
       "      <td>Marketing</td>\n",
       "      <td>NaN</td>\n",
       "      <td>1</td>\n",
       "      <td>NaN</td>\n",
       "      <td>['M_PS_BUT_SP', 'M_PA_BUT_SP', 'M_MA_AND_SP', ...</td>\n",
       "    </tr>\n",
       "    <tr>\n",
       "      <th>1</th>\n",
       "      <td>2002</td>\n",
       "      <td>2002</td>\n",
       "      <td>2001</td>\n",
       "      <td>Level 2</td>\n",
       "      <td>Audio</td>\n",
       "      <td>Marketing&gt;Audio</td>\n",
       "      <td>Audio</td>\n",
       "      <td>NaN</td>\n",
       "      <td>1</td>\n",
       "      <td>NaN</td>\n",
       "      <td>['M_AU_POD_SP']</td>\n",
       "    </tr>\n",
       "    <tr>\n",
       "      <th>2</th>\n",
       "      <td>2003</td>\n",
       "      <td>2003</td>\n",
       "      <td>2002</td>\n",
       "      <td>Variable</td>\n",
       "      <td>Audio Podcast</td>\n",
       "      <td>Marketing&gt;Audio&gt;Podcast</td>\n",
       "      <td>Audio Podcast</td>\n",
       "      <td>M_AU_POD_SP</td>\n",
       "      <td>1</td>\n",
       "      <td>audio podcast</td>\n",
       "      <td>['M_AU_POD_SP']</td>\n",
       "    </tr>\n",
       "    <tr>\n",
       "      <th>3</th>\n",
       "      <td>2004</td>\n",
       "      <td>2004</td>\n",
       "      <td>2001</td>\n",
       "      <td>Level 2</td>\n",
       "      <td>Display</td>\n",
       "      <td>Marketing&gt;Display</td>\n",
       "      <td>Display</td>\n",
       "      <td>NaN</td>\n",
       "      <td>1</td>\n",
       "      <td>NaN</td>\n",
       "      <td>['M_DISP_DISP_SP']</td>\n",
       "    </tr>\n",
       "    <tr>\n",
       "      <th>4</th>\n",
       "      <td>2005</td>\n",
       "      <td>2005</td>\n",
       "      <td>2004</td>\n",
       "      <td>Variable</td>\n",
       "      <td>Display</td>\n",
       "      <td>Marketing&gt;Display&gt;Display</td>\n",
       "      <td>Display</td>\n",
       "      <td>M_DISP_DISP_SP</td>\n",
       "      <td>1</td>\n",
       "      <td>display</td>\n",
       "      <td>['M_DISP_DISP_SP']</td>\n",
       "    </tr>\n",
       "  </tbody>\n",
       "</table>\n",
       "</div>"
      ],
      "text/plain": [
       "   node_seq  node_id  parent_node_id     level node_display_name  \\\n",
       "0      2001     2001               0   Level 1         Marketing   \n",
       "1      2002     2002            2001   Level 2             Audio   \n",
       "2      2003     2003            2002  Variable     Audio Podcast   \n",
       "3      2004     2004            2001   Level 2           Display   \n",
       "4      2005     2005            2004  Variable           Display   \n",
       "\n",
       "                        path node_description       node_name  version_id  \\\n",
       "0                  Marketing        Marketing             NaN           1   \n",
       "1            Marketing>Audio            Audio             NaN           1   \n",
       "2    Marketing>Audio>Podcast    Audio Podcast     M_AU_POD_SP           1   \n",
       "3          Marketing>Display          Display             NaN           1   \n",
       "4  Marketing>Display>Display          Display  M_DISP_DISP_SP           1   \n",
       "\n",
       "       new_level                                         leaf_nodes  \n",
       "0            NaN  ['M_PS_BUT_SP', 'M_PA_BUT_SP', 'M_MA_AND_SP', ...  \n",
       "1            NaN                                    ['M_AU_POD_SP']  \n",
       "2  audio podcast                                    ['M_AU_POD_SP']  \n",
       "3            NaN                                 ['M_DISP_DISP_SP']  \n",
       "4        display                                 ['M_DISP_DISP_SP']  "
      ]
     },
     "execution_count": 232,
     "metadata": {},
     "output_type": "execute_result"
    }
   ],
   "source": [
    "import pandas as pd \n",
    "df=pd.read_csv(\"select_touchpoints.csv\")\n",
    "df.head()"
   ]
  },
  {
   "cell_type": "code",
   "execution_count": 248,
   "metadata": {},
   "outputs": [
    {
     "data": {
      "text/html": [
       "<div>\n",
       "<style scoped>\n",
       "    .dataframe tbody tr th:only-of-type {\n",
       "        vertical-align: middle;\n",
       "    }\n",
       "\n",
       "    .dataframe tbody tr th {\n",
       "        vertical-align: top;\n",
       "    }\n",
       "\n",
       "    .dataframe thead th {\n",
       "        text-align: right;\n",
       "    }\n",
       "</style>\n",
       "<table border=\"1\" class=\"dataframe\">\n",
       "  <thead>\n",
       "    <tr style=\"text-align: right;\">\n",
       "      <th></th>\n",
       "      <th>node_seq</th>\n",
       "      <th>node_id</th>\n",
       "      <th>parent_node_id</th>\n",
       "      <th>level</th>\n",
       "      <th>node_display_name</th>\n",
       "      <th>path</th>\n",
       "      <th>node_description</th>\n",
       "      <th>node_name</th>\n",
       "      <th>version_id</th>\n",
       "      <th>new_level</th>\n",
       "      <th>leaf_nodes</th>\n",
       "    </tr>\n",
       "  </thead>\n",
       "  <tbody>\n",
       "    <tr>\n",
       "      <th>54</th>\n",
       "      <td>2055</td>\n",
       "      <td>6000</td>\n",
       "      <td>0</td>\n",
       "      <td>Level 1</td>\n",
       "      <td>External Factors</td>\n",
       "      <td>External Factors</td>\n",
       "      <td>External Factors</td>\n",
       "      <td>NaN</td>\n",
       "      <td>1</td>\n",
       "      <td>NaN</td>\n",
       "      <td>['E_OECD_ECO_IND', 'E_UNEM_RTE', 'E_CPI_FOOD_A...</td>\n",
       "    </tr>\n",
       "  </tbody>\n",
       "</table>\n",
       "</div>"
      ],
      "text/plain": [
       "    node_seq  node_id  parent_node_id    level node_display_name  \\\n",
       "54      2055     6000               0  Level 1  External Factors   \n",
       "\n",
       "                path  node_description node_name  version_id new_level  \\\n",
       "54  External Factors  External Factors       NaN           1       NaN   \n",
       "\n",
       "                                           leaf_nodes  \n",
       "54  ['E_OECD_ECO_IND', 'E_UNEM_RTE', 'E_CPI_FOOD_A...  "
      ]
     },
     "execution_count": 248,
     "metadata": {},
     "output_type": "execute_result"
    }
   ],
   "source": [
    "df[df[\"node_display_name\"]==\"External Factors\"]"
   ]
  },
  {
   "cell_type": "code",
   "execution_count": 247,
   "metadata": {},
   "outputs": [],
   "source": [
    "def fla(x):\n",
    "    if \"Control\" in x:\n",
    "        return x.replace(\"Control\",\"External Factors\")\n",
    "    return x \n",
    "df[\"path\"]=df[\"path\"].apply(fla)"
   ]
  },
  {
   "cell_type": "code",
   "execution_count": 249,
   "metadata": {},
   "outputs": [],
   "source": [
    "df.to_csv(\"select_touchpoints1.csv\")"
   ]
  },
  {
   "cell_type": "code",
   "execution_count": 206,
   "metadata": {},
   "outputs": [],
   "source": [
    "import os \n",
    "import shutil \n",
    "c=0\n",
    "for i in os.listdir(\"CATS_DOGS/train/DOG/\"):\n",
    "    shutil.copy(f\"CATS_DOGS/train/DOG/{i}\",f\"D:/cat_id/test/new_val/images/dog_{c}.jpg\")\n",
    "    c=c+1\n",
    "    if c==4000:\n",
    "        break"
   ]
  },
  {
   "cell_type": "code",
   "execution_count": 250,
   "metadata": {},
   "outputs": [
    {
     "data": {
      "text/html": [
       "<div>\n",
       "<style scoped>\n",
       "    .dataframe tbody tr th:only-of-type {\n",
       "        vertical-align: middle;\n",
       "    }\n",
       "\n",
       "    .dataframe tbody tr th {\n",
       "        vertical-align: top;\n",
       "    }\n",
       "\n",
       "    .dataframe thead th {\n",
       "        text-align: right;\n",
       "    }\n",
       "</style>\n",
       "<table border=\"1\" class=\"dataframe\">\n",
       "  <thead>\n",
       "    <tr style=\"text-align: right;\">\n",
       "      <th></th>\n",
       "      <th>Variable Name</th>\n",
       "      <th>Variable Description</th>\n",
       "      <th>Q1</th>\n",
       "      <th>Q2</th>\n",
       "      <th>Q3</th>\n",
       "      <th>Q4</th>\n",
       "    </tr>\n",
       "  </thead>\n",
       "  <tbody>\n",
       "    <tr>\n",
       "      <th>0</th>\n",
       "      <td>M_AU_POD_SP</td>\n",
       "      <td>Audio Podcast</td>\n",
       "      <td>0</td>\n",
       "      <td>0</td>\n",
       "      <td>0</td>\n",
       "      <td>0</td>\n",
       "    </tr>\n",
       "    <tr>\n",
       "      <th>1</th>\n",
       "      <td>M_DISP_DISP_SP</td>\n",
       "      <td>Display</td>\n",
       "      <td>0</td>\n",
       "      <td>0</td>\n",
       "      <td>0</td>\n",
       "      <td>0</td>\n",
       "    </tr>\n",
       "    <tr>\n",
       "      <th>2</th>\n",
       "      <td>M_MA_AND_SP</td>\n",
       "      <td>Mobile App - Android</td>\n",
       "      <td>0</td>\n",
       "      <td>0</td>\n",
       "      <td>0</td>\n",
       "      <td>0</td>\n",
       "    </tr>\n",
       "    <tr>\n",
       "      <th>3</th>\n",
       "      <td>M_MA_IOS_SP</td>\n",
       "      <td>Mobile App - iOS</td>\n",
       "      <td>0</td>\n",
       "      <td>0</td>\n",
       "      <td>0</td>\n",
       "      <td>0</td>\n",
       "    </tr>\n",
       "    <tr>\n",
       "      <th>4</th>\n",
       "      <td>M_OV_OV_SP</td>\n",
       "      <td>Online Video_Online Video</td>\n",
       "      <td>0</td>\n",
       "      <td>0</td>\n",
       "      <td>0</td>\n",
       "      <td>0</td>\n",
       "    </tr>\n",
       "  </tbody>\n",
       "</table>\n",
       "</div>"
      ],
      "text/plain": [
       "    Variable Name       Variable Description  Q1  Q2  Q3  Q4\n",
       "0     M_AU_POD_SP              Audio Podcast   0   0   0   0\n",
       "1  M_DISP_DISP_SP                    Display   0   0   0   0\n",
       "2     M_MA_AND_SP       Mobile App - Android   0   0   0   0\n",
       "3     M_MA_IOS_SP           Mobile App - iOS   0   0   0   0\n",
       "4      M_OV_OV_SP  Online Video_Online Video   0   0   0   0"
      ]
     },
     "execution_count": 250,
     "metadata": {},
     "output_type": "execute_result"
    }
   ],
   "source": [
    "df=pd.read_csv(\"scenario_data_qtrly (10).csv\")\n",
    "df1=pd.read_csv(\"spend_threshold_quarterly.csv\")\n",
    "df.head()"
   ]
  },
  {
   "cell_type": "code",
   "execution_count": 251,
   "metadata": {},
   "outputs": [
    {
     "data": {
      "text/html": [
       "<div>\n",
       "<style scoped>\n",
       "    .dataframe tbody tr th:only-of-type {\n",
       "        vertical-align: middle;\n",
       "    }\n",
       "\n",
       "    .dataframe tbody tr th {\n",
       "        vertical-align: top;\n",
       "    }\n",
       "\n",
       "    .dataframe thead th {\n",
       "        text-align: right;\n",
       "    }\n",
       "</style>\n",
       "<table border=\"1\" class=\"dataframe\">\n",
       "  <thead>\n",
       "    <tr style=\"text-align: right;\">\n",
       "      <th></th>\n",
       "      <th>Unnamed: 0</th>\n",
       "      <th>node_name</th>\n",
       "      <th>q1</th>\n",
       "      <th>q2</th>\n",
       "      <th>q3</th>\n",
       "      <th>q4</th>\n",
       "    </tr>\n",
       "  </thead>\n",
       "  <tbody>\n",
       "    <tr>\n",
       "      <th>0</th>\n",
       "      <td>0</td>\n",
       "      <td>M_AU_POD_SP</td>\n",
       "      <td>4.082750e+05</td>\n",
       "      <td>5.959652e+05</td>\n",
       "      <td>1.055250e+05</td>\n",
       "      <td>1.241713e+06</td>\n",
       "    </tr>\n",
       "    <tr>\n",
       "      <th>1</th>\n",
       "      <td>1</td>\n",
       "      <td>M_DISP_DISP_SP</td>\n",
       "      <td>3.140437e+05</td>\n",
       "      <td>2.021120e+05</td>\n",
       "      <td>1.083291e+05</td>\n",
       "      <td>6.498469e+05</td>\n",
       "    </tr>\n",
       "    <tr>\n",
       "      <th>2</th>\n",
       "      <td>2</td>\n",
       "      <td>M_MA_AND_SP</td>\n",
       "      <td>1.917987e+05</td>\n",
       "      <td>2.850271e+05</td>\n",
       "      <td>2.292385e+05</td>\n",
       "      <td>6.254737e+05</td>\n",
       "    </tr>\n",
       "    <tr>\n",
       "      <th>3</th>\n",
       "      <td>3</td>\n",
       "      <td>M_MA_IOS_SP</td>\n",
       "      <td>1.405365e+06</td>\n",
       "      <td>1.127392e+06</td>\n",
       "      <td>1.063249e+06</td>\n",
       "      <td>3.287527e+06</td>\n",
       "    </tr>\n",
       "    <tr>\n",
       "      <th>4</th>\n",
       "      <td>4</td>\n",
       "      <td>M_OV_OV_SP</td>\n",
       "      <td>2.279359e+06</td>\n",
       "      <td>2.299995e+05</td>\n",
       "      <td>1.896084e+04</td>\n",
       "      <td>9.162417e+05</td>\n",
       "    </tr>\n",
       "  </tbody>\n",
       "</table>\n",
       "</div>"
      ],
      "text/plain": [
       "   Unnamed: 0       node_name            q1            q2            q3  \\\n",
       "0           0     M_AU_POD_SP  4.082750e+05  5.959652e+05  1.055250e+05   \n",
       "1           1  M_DISP_DISP_SP  3.140437e+05  2.021120e+05  1.083291e+05   \n",
       "2           2     M_MA_AND_SP  1.917987e+05  2.850271e+05  2.292385e+05   \n",
       "3           3     M_MA_IOS_SP  1.405365e+06  1.127392e+06  1.063249e+06   \n",
       "4           4      M_OV_OV_SP  2.279359e+06  2.299995e+05  1.896084e+04   \n",
       "\n",
       "             q4  \n",
       "0  1.241713e+06  \n",
       "1  6.498469e+05  \n",
       "2  6.254737e+05  \n",
       "3  3.287527e+06  \n",
       "4  9.162417e+05  "
      ]
     },
     "execution_count": 251,
     "metadata": {},
     "output_type": "execute_result"
    }
   ],
   "source": [
    "df1.head()"
   ]
  },
  {
   "cell_type": "code",
   "execution_count": null,
   "metadata": {},
   "outputs": [],
   "source": []
  },
  {
   "cell_type": "code",
   "execution_count": 254,
   "metadata": {},
   "outputs": [],
   "source": [
    "pd.merge(df,df1,left_on=\"Variable Name\",right_on=\"node_name\",how=\"inner\").to_csv(\"scenario_qtr.csv\")"
   ]
  },
  {
   "cell_type": "code",
   "execution_count": null,
   "metadata": {},
   "outputs": [],
   "source": []
  },
  {
   "cell_type": "code",
   "execution_count": 255,
   "metadata": {},
   "outputs": [],
   "source": [
    "l=[]\n",
    "for i in os.listdir(\"D:/cat_id/yolov5/runs/detect/exp20\"):\n",
    "    l.append(i)"
   ]
  },
  {
   "cell_type": "code",
   "execution_count": 257,
   "metadata": {},
   "outputs": [],
   "source": [
    "for i in os.listdir(\"D:/cat_id/test/new_val/images\"):\n",
    "    if i not in l:\n",
    "        os.remove(f\"D:/cat_id/test/new_val/images/{i}\")"
   ]
  },
  {
   "cell_type": "code",
   "execution_count": 305,
   "metadata": {},
   "outputs": [],
   "source": [
    "l=[]\n",
    "for i in os.listdir(\"D:/cat_id/yolov5/runs/detect/exp23/labels\"):\n",
    "    l1=[]\n",
    "    l1.append(i.split(\".tx\")[0])\n",
    "    a=pd.read_csv(f\"D:/cat_id/yolov5/runs/detect/exp23/labels/{i}\",header=None,sep=\" \")\n",
    "    if len(a)>1:\n",
    "        pred=0\n",
    "        pred_conf=0\n",
    "        for j in range(len(a)):\n",
    "            if a.iloc[j].values[5]>pred_conf:\n",
    "                pred_conf=a.iloc[j].values[5]\n",
    "                pred=a.iloc[j].values[0]\n",
    "    else:\n",
    "        pred=a.iloc[0].values[0]\n",
    "        pred_conf=a.iloc[0].values[5]\n",
    "    l1.append(pred)\n",
    "    l1.append(pred_conf)\n",
    "    l.append(l1)"
   ]
  },
  {
   "cell_type": "code",
   "execution_count": 306,
   "metadata": {},
   "outputs": [],
   "source": [
    "df=pd.DataFrame(data=l,columns=[\"name\",\"pred_class\",\"conf_score\"])"
   ]
  },
  {
   "cell_type": "code",
   "execution_count": 307,
   "metadata": {},
   "outputs": [],
   "source": [
    "l=[]\n",
    "for i in os.listdir(\"D:/cat_id/yolov5/runs/detect/exp23/labels\"):\n",
    "    l.append(i.split(\".tx\")[0])\n",
    "l1=[]\n",
    "for i in os.listdir(\"D:/cat_id/test/new_val/images\"):\n",
    "    if \"jpg\" in i:\n",
    "        j=i.split(\".jp\")[0]\n",
    "        if j not in l:\n",
    "            l1.append([j,2,\"NA\"])\n",
    "    elif \"pn\" in i:\n",
    "        j=i.split(\".jp\")[0]\n",
    "        if j not in l:\n",
    "            l1.append([j,2,\"NA\"])\n",
    "    else:\n",
    "        print(i)"
   ]
  },
  {
   "cell_type": "code",
   "execution_count": 308,
   "metadata": {},
   "outputs": [],
   "source": [
    "df2=pd.DataFrame(data=l1,columns=[\"name\",\"pred_class\",\"conf_score\"])"
   ]
  },
  {
   "cell_type": "code",
   "execution_count": 309,
   "metadata": {},
   "outputs": [],
   "source": [
    "df=pd.concat([df,df2]).reset_index().drop(\"index\",axis=1)"
   ]
  },
  {
   "cell_type": "code",
   "execution_count": 310,
   "metadata": {},
   "outputs": [],
   "source": [
    "df[\"orig_class\"]=df[\"name\"].apply(lambda x:0 if \"cat\" in x else (1 if \"dog\" in x else 2))"
   ]
  },
  {
   "cell_type": "code",
   "execution_count": 311,
   "metadata": {},
   "outputs": [
    {
     "name": "stdout",
     "output_type": "stream",
     "text": [
      "              precision    recall  f1-score   support\n",
      "\n",
      "           0       0.98      0.95      0.97      3996\n",
      "           1       0.98      0.94      0.96      3954\n",
      "           2       0.77      0.91      0.84      1265\n",
      "\n",
      "    accuracy                           0.94      9215\n",
      "   macro avg       0.91      0.94      0.92      9215\n",
      "weighted avg       0.95      0.94      0.95      9215\n",
      "\n",
      "[[3809   57  130]\n",
      " [   3 3734  217]\n",
      " [  78   30 1157]]\n"
     ]
    }
   ],
   "source": [
    "from sklearn.metrics import confusion_matrix,classification_report \n",
    "print(classification_report(df[\"orig_class\"],df[\"pred_class\"]))\n",
    "print(confusion_matrix(df[\"orig_class\"],df[\"pred_class\"]))"
   ]
  },
  {
   "cell_type": "code",
   "execution_count": 312,
   "metadata": {},
   "outputs": [
    {
     "name": "stderr",
     "output_type": "stream",
     "text": [
      "C:\\Users\\uday.bijjala\\AppData\\Local\\Temp\\ipykernel_18096\\4179771103.py:1: UserWarning: Pandas requires version '1.4.3' or newer of 'xlsxwriter' (version '1.3.8' currently installed).\n",
      "  df.to_excel(\"old_model_new_val.xlsx\")\n"
     ]
    }
   ],
   "source": [
    "df.to_excel(\"old_model_new_val.xlsx\")"
   ]
  },
  {
   "cell_type": "code",
   "execution_count": 287,
   "metadata": {},
   "outputs": [],
   "source": [
    "a=df[(df[\"orig_class\"]==1) & (df[\"pred_class\"]==0)]\n",
    "for i in a[\"name\"].values:\n",
    "    shutil.copy(f\"D:/cat_id/test/new_val/images/{i}.jpg\",\"new_val_misclassification_analysis/dog_as_cat/\")"
   ]
  },
  {
   "cell_type": "code",
   "execution_count": 288,
   "metadata": {},
   "outputs": [
    {
     "data": {
      "text/html": [
       "<div>\n",
       "<style scoped>\n",
       "    .dataframe tbody tr th:only-of-type {\n",
       "        vertical-align: middle;\n",
       "    }\n",
       "\n",
       "    .dataframe tbody tr th {\n",
       "        vertical-align: top;\n",
       "    }\n",
       "\n",
       "    .dataframe thead th {\n",
       "        text-align: right;\n",
       "    }\n",
       "</style>\n",
       "<table border=\"1\" class=\"dataframe\">\n",
       "  <thead>\n",
       "    <tr style=\"text-align: right;\">\n",
       "      <th></th>\n",
       "      <th>name</th>\n",
       "      <th>pred_class</th>\n",
       "      <th>conf_score</th>\n",
       "      <th>orig_class</th>\n",
       "    </tr>\n",
       "  </thead>\n",
       "  <tbody>\n",
       "    <tr>\n",
       "      <th>0</th>\n",
       "      <td>cat_0</td>\n",
       "      <td>0.0</td>\n",
       "      <td>0.832763</td>\n",
       "      <td>0</td>\n",
       "    </tr>\n",
       "    <tr>\n",
       "      <th>1</th>\n",
       "      <td>cat_1</td>\n",
       "      <td>0.0</td>\n",
       "      <td>0.928345</td>\n",
       "      <td>0</td>\n",
       "    </tr>\n",
       "    <tr>\n",
       "      <th>2</th>\n",
       "      <td>cat_10</td>\n",
       "      <td>0.0</td>\n",
       "      <td>0.871131</td>\n",
       "      <td>0</td>\n",
       "    </tr>\n",
       "    <tr>\n",
       "      <th>3</th>\n",
       "      <td>cat_100</td>\n",
       "      <td>0.0</td>\n",
       "      <td>0.836495</td>\n",
       "      <td>0</td>\n",
       "    </tr>\n",
       "    <tr>\n",
       "      <th>4</th>\n",
       "      <td>cat_1000</td>\n",
       "      <td>0.0</td>\n",
       "      <td>0.871016</td>\n",
       "      <td>0</td>\n",
       "    </tr>\n",
       "    <tr>\n",
       "      <th>...</th>\n",
       "      <td>...</td>\n",
       "      <td>...</td>\n",
       "      <td>...</td>\n",
       "      <td>...</td>\n",
       "    </tr>\n",
       "    <tr>\n",
       "      <th>7945</th>\n",
       "      <td>dog_933</td>\n",
       "      <td>2.0</td>\n",
       "      <td>NA</td>\n",
       "      <td>1</td>\n",
       "    </tr>\n",
       "    <tr>\n",
       "      <th>7946</th>\n",
       "      <td>dog_936</td>\n",
       "      <td>2.0</td>\n",
       "      <td>NA</td>\n",
       "      <td>1</td>\n",
       "    </tr>\n",
       "    <tr>\n",
       "      <th>7947</th>\n",
       "      <td>dog_948</td>\n",
       "      <td>2.0</td>\n",
       "      <td>NA</td>\n",
       "      <td>1</td>\n",
       "    </tr>\n",
       "    <tr>\n",
       "      <th>7948</th>\n",
       "      <td>dog_955</td>\n",
       "      <td>2.0</td>\n",
       "      <td>NA</td>\n",
       "      <td>1</td>\n",
       "    </tr>\n",
       "    <tr>\n",
       "      <th>7949</th>\n",
       "      <td>dog_963</td>\n",
       "      <td>2.0</td>\n",
       "      <td>NA</td>\n",
       "      <td>1</td>\n",
       "    </tr>\n",
       "  </tbody>\n",
       "</table>\n",
       "<p>7950 rows × 4 columns</p>\n",
       "</div>"
      ],
      "text/plain": [
       "          name  pred_class conf_score  orig_class\n",
       "0        cat_0         0.0   0.832763           0\n",
       "1        cat_1         0.0   0.928345           0\n",
       "2       cat_10         0.0   0.871131           0\n",
       "3      cat_100         0.0   0.836495           0\n",
       "4     cat_1000         0.0   0.871016           0\n",
       "...        ...         ...        ...         ...\n",
       "7945   dog_933         2.0         NA           1\n",
       "7946   dog_936         2.0         NA           1\n",
       "7947   dog_948         2.0         NA           1\n",
       "7948   dog_955         2.0         NA           1\n",
       "7949   dog_963         2.0         NA           1\n",
       "\n",
       "[7950 rows x 4 columns]"
      ]
     },
     "execution_count": 288,
     "metadata": {},
     "output_type": "execute_result"
    }
   ],
   "source": [
    "df"
   ]
  },
  {
   "cell_type": "code",
   "execution_count": 353,
   "metadata": {},
   "outputs": [],
   "source": [
    "df=pd.read_csv(\"scenario_data_yearly (9).csv\")\n",
    "df1=pd.read_csv(\"yearly spends.csv\")"
   ]
  },
  {
   "cell_type": "code",
   "execution_count": 357,
   "metadata": {},
   "outputs": [],
   "source": [
    "pd.merge(df,df1,left_on=\"Variable Name\",right_on=\"Variable Name\",how=\"inner\").to_csv(\"scenario_data_yearly.csv\")"
   ]
  },
  {
   "cell_type": "code",
   "execution_count": 355,
   "metadata": {},
   "outputs": [
    {
     "data": {
      "text/html": [
       "<div>\n",
       "<style scoped>\n",
       "    .dataframe tbody tr th:only-of-type {\n",
       "        vertical-align: middle;\n",
       "    }\n",
       "\n",
       "    .dataframe tbody tr th {\n",
       "        vertical-align: top;\n",
       "    }\n",
       "\n",
       "    .dataframe thead th {\n",
       "        text-align: right;\n",
       "    }\n",
       "</style>\n",
       "<table border=\"1\" class=\"dataframe\">\n",
       "  <thead>\n",
       "    <tr style=\"text-align: right;\">\n",
       "      <th></th>\n",
       "      <th>Variable Name</th>\n",
       "      <th>Variable Description</th>\n",
       "      <th>Year</th>\n",
       "      <th>Unnamed: 3</th>\n",
       "    </tr>\n",
       "  </thead>\n",
       "  <tbody>\n",
       "    <tr>\n",
       "      <th>0</th>\n",
       "      <td>M_AU_POD_SP</td>\n",
       "      <td>Audio Podcast</td>\n",
       "      <td>1.351166e+06</td>\n",
       "      <td>1.351166e+06</td>\n",
       "    </tr>\n",
       "    <tr>\n",
       "      <th>1</th>\n",
       "      <td>M_DISP_DISP_SP</td>\n",
       "      <td>Display</td>\n",
       "      <td>2.094786e+05</td>\n",
       "      <td>2.094786e+05</td>\n",
       "    </tr>\n",
       "    <tr>\n",
       "      <th>2</th>\n",
       "      <td>M_FLAGS_HOLI</td>\n",
       "      <td>Holidays</td>\n",
       "      <td>0.000000e+00</td>\n",
       "      <td>0.000000e+00</td>\n",
       "    </tr>\n",
       "    <tr>\n",
       "      <th>3</th>\n",
       "      <td>M_FLAGS_LVN</td>\n",
       "      <td>Livenation</td>\n",
       "      <td>0.000000e+00</td>\n",
       "      <td>0.000000e+00</td>\n",
       "    </tr>\n",
       "    <tr>\n",
       "      <th>4</th>\n",
       "      <td>M_MA_AND_SP</td>\n",
       "      <td>Mobile App - Android</td>\n",
       "      <td>3.268185e+05</td>\n",
       "      <td>3.268185e+05</td>\n",
       "    </tr>\n",
       "  </tbody>\n",
       "</table>\n",
       "</div>"
      ],
      "text/plain": [
       "    Variable Name  Variable Description          Year    Unnamed: 3\n",
       "0     M_AU_POD_SP         Audio Podcast  1.351166e+06  1.351166e+06\n",
       "1  M_DISP_DISP_SP               Display  2.094786e+05  2.094786e+05\n",
       "2    M_FLAGS_HOLI              Holidays  0.000000e+00  0.000000e+00\n",
       "3     M_FLAGS_LVN            Livenation  0.000000e+00  0.000000e+00\n",
       "4     M_MA_AND_SP  Mobile App - Android  3.268185e+05  3.268185e+05"
      ]
     },
     "execution_count": 355,
     "metadata": {},
     "output_type": "execute_result"
    }
   ],
   "source": [
    "df1.head()"
   ]
  },
  {
   "cell_type": "code",
   "execution_count": 358,
   "metadata": {},
   "outputs": [
    {
     "data": {
      "text/html": [
       "<div>\n",
       "<style scoped>\n",
       "    .dataframe tbody tr th:only-of-type {\n",
       "        vertical-align: middle;\n",
       "    }\n",
       "\n",
       "    .dataframe tbody tr th {\n",
       "        vertical-align: top;\n",
       "    }\n",
       "\n",
       "    .dataframe thead th {\n",
       "        text-align: right;\n",
       "    }\n",
       "</style>\n",
       "<table border=\"1\" class=\"dataframe\">\n",
       "  <thead>\n",
       "    <tr style=\"text-align: right;\">\n",
       "      <th></th>\n",
       "      <th>Variable Name</th>\n",
       "      <th>Variable Description</th>\n",
       "      <th>Year</th>\n",
       "    </tr>\n",
       "  </thead>\n",
       "  <tbody>\n",
       "    <tr>\n",
       "      <th>0</th>\n",
       "      <td>M_AU_POD_SP</td>\n",
       "      <td>Audio Podcast</td>\n",
       "      <td>0</td>\n",
       "    </tr>\n",
       "    <tr>\n",
       "      <th>1</th>\n",
       "      <td>M_DISP_DISP_SP</td>\n",
       "      <td>Display</td>\n",
       "      <td>0</td>\n",
       "    </tr>\n",
       "    <tr>\n",
       "      <th>2</th>\n",
       "      <td>M_MA_AND_SP</td>\n",
       "      <td>Mobile App - Android</td>\n",
       "      <td>0</td>\n",
       "    </tr>\n",
       "    <tr>\n",
       "      <th>3</th>\n",
       "      <td>M_MA_IOS_SP</td>\n",
       "      <td>Mobile App - iOS</td>\n",
       "      <td>0</td>\n",
       "    </tr>\n",
       "    <tr>\n",
       "      <th>4</th>\n",
       "      <td>M_OV_OV_SP</td>\n",
       "      <td>Online Video_Online Video</td>\n",
       "      <td>0</td>\n",
       "    </tr>\n",
       "  </tbody>\n",
       "</table>\n",
       "</div>"
      ],
      "text/plain": [
       "    Variable Name       Variable Description  Year\n",
       "0     M_AU_POD_SP              Audio Podcast     0\n",
       "1  M_DISP_DISP_SP                    Display     0\n",
       "2     M_MA_AND_SP       Mobile App - Android     0\n",
       "3     M_MA_IOS_SP           Mobile App - iOS     0\n",
       "4      M_OV_OV_SP  Online Video_Online Video     0"
      ]
     },
     "execution_count": 358,
     "metadata": {},
     "output_type": "execute_result"
    }
   ],
   "source": [
    "df.head()"
   ]
  },
  {
   "cell_type": "code",
   "execution_count": 423,
   "metadata": {},
   "outputs": [],
   "source": [
    "d=dict()\n",
    "d.get(\"a\")"
   ]
  },
  {
   "cell_type": "code",
   "execution_count": null,
   "metadata": {},
   "outputs": [],
   "source": []
  }
 ],
 "metadata": {
  "kernelspec": {
   "display_name": "npp-pet-id_1-dev",
   "language": "python",
   "name": "python3"
  },
  "language_info": {
   "codemirror_mode": {
    "name": "ipython",
    "version": 3
   },
   "file_extension": ".py",
   "mimetype": "text/x-python",
   "name": "python",
   "nbconvert_exporter": "python",
   "pygments_lexer": "ipython3",
   "version": "3.10.11"
  }
 },
 "nbformat": 4,
 "nbformat_minor": 2
}
