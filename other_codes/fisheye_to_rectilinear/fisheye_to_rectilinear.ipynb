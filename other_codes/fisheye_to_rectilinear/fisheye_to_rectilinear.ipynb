{
 "cells": [
  {
   "cell_type": "markdown",
   "metadata": {},
   "source": [
    "### Function to convert fish eye images to rectilinear images"
   ]
  },
  {
   "cell_type": "code",
   "execution_count": null,
   "metadata": {},
   "outputs": [],
   "source": [
    "# import necessary libraries\n",
    "\n",
    "import cv2\n",
    "import numpy as np"
   ]
  },
  {
   "cell_type": "markdown",
   "metadata": {},
   "source": [
    "The actual convertion depends on many camera intrinsic and extrinsic parameters.Here we are taking some assumptions and approximates since we dont know the exact values\n",
    "\n",
    "Here, we create the camera matrix K based on the known focal length and principal point. This matrix represents the intrinsic camera parameters.\n",
    "This matrix represents the intrinsic camera parameters.\n",
    "\n",
    "We define distortion coefficients D. In this code, we initialize them as zeros, assuming minimal distortion. We can replace this with your actual distortion coefficients if known."
   ]
  },
  {
   "cell_type": "code",
   "execution_count": null,
   "metadata": {},
   "outputs": [],
   "source": [
    "# create a function to convert fish eye images to rectilinear images\n",
    "\n",
    "#  Here, we create the camera matrix K based on the known focal length and principal point. This matrix represents the intrinsic camera parameters.\n",
    "#  This matrix represents the intrinsic camera parameters.\n",
    "\n",
    "# We define distortion coefficients D. In this code, we initialize them as zeros, assuming minimal distortion. We can replace this with your actual distortion coefficients if known.\n",
    "\n",
    "def fish_rect(img_path, focal_length,save_path):\n",
    "    # Load the fisheye image\n",
    "    fisheye_img = cv2.imread(img_path)\n",
    "    img_nam = img_path.split(\"/\")[-1]\n",
    "\n",
    "\n",
    "    # Define the known focal length (in pixels)\n",
    "    focal_length = focal_length  # Replace with your estimated focal length\n",
    "\n",
    "    # Estimate the camera matrix with the known focal length\n",
    "    width, height = fisheye_img.shape[1], fisheye_img.shape[0]\n",
    "    cx, cy = width / 2, height / 2\n",
    "    K = np.array([[focal_length, 0, cx],\n",
    "                [0, focal_length, cy],\n",
    "                [0, 0, 1]])\n",
    "\n",
    "    # Define distortion coefficients (you can set them to zeros for minimal distortion)\n",
    "    D = np.zeros((4, 1))\n",
    "\n",
    "    # Create a mapping function for rectification\n",
    "    map_x, map_y = cv2.fisheye.initUndistortRectifyMap(K, D, np.eye(3), K, (width, height), cv2.CV_16SC2)\n",
    "\n",
    "    # Use the mapping function to undistort the image\n",
    "    undistorted_img = cv2.remap(fisheye_img, map_x, map_y, interpolation=cv2.INTER_LINEAR, borderMode=cv2.BORDER_CONSTANT)\n",
    "\n",
    "    # Save the rectilinear image\n",
    "    cv2.imwrite(save_path + img_nam, undistorted_img)\n",
    "\n",
    "    return undistorted_img\n"
   ]
  },
  {
   "cell_type": "code",
   "execution_count": 16,
   "metadata": {},
   "outputs": [],
   "source": [
    "import os\n",
    "import cv2\n",
    "import numpy as np\n",
    "\n",
    "path = \"D:/Cat_id/yolo v5/yolo new/yolov5-master/runs/detect/fisheye_client_video1/original_frames/\"\n",
    "focal_length = 300\n",
    "save_path = \"D:/Cat_id/yolo v5/yolo new/yolov5-master/runs/detect/fisheye_client_video1/org_frames_converted/\"\n",
    "\n",
    "for im in os.listdir(path):\n",
    "    img_path = path + im\n",
    "    fish_rect(img_path, focal_length,save_path)\n"
   ]
  }
 ],
 "metadata": {
  "kernelspec": {
   "display_name": "Python 3",
   "language": "python",
   "name": "python3"
  },
  "language_info": {
   "codemirror_mode": {
    "name": "ipython",
    "version": 3
   },
   "file_extension": ".py",
   "mimetype": "text/x-python",
   "name": "python",
   "nbconvert_exporter": "python",
   "pygments_lexer": "ipython3",
   "version": "3.8.13"
  }
 },
 "nbformat": 4,
 "nbformat_minor": 2
}
