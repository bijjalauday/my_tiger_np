{
 "cells": [
  {
   "cell_type": "markdown",
   "metadata": {},
   "source": [
    "## Function for converting images to nyt vision"
   ]
  },
  {
   "cell_type": "code",
   "execution_count": null,
   "metadata": {},
   "outputs": [],
   "source": [
    "\n",
    "import cv2\n",
    "import numpy as np\n",
    "from PIL import Image, ImageEnhance\n",
    "from numpy import asarray\n",
    "import os\n",
    "import pandas as pd\n",
    "import os\n",
    "\n",
    "def vignette_new(image, level = 2):\n",
    "    height, width = image.shape[:2]\n",
    "\n",
    "    x_resultant_kernel = cv2.getGaussianKernel(width, width/level)\n",
    "    y_resultant_kernel = cv2.getGaussianKernel(height, height/level)\n",
    "\n",
    "    kernel = y_resultant_kernel * x_resultant_kernel.T\n",
    "    mask = kernel / kernel.max()\n",
    "\n",
    "    image_vignette = np.copy(image)\n",
    "\n",
    "    for i in range(3):\n",
    "        image_vignette[:,:,i] = image_vignette[:,:,i] * mask\n",
    "\n",
    "    return image_vignette\n",
    "\n",
    "\n",
    "def convert_to_night_vision_new(imge,grayscale_contrast=0.7,brightness = 0.65,\n",
    "                            amp_rc = 1.65,amp_gc = 1.0,amp_bc = 1.7):\n",
    "    # Open the image\n",
    "    # image = Image.open(image_path)\n",
    "    imgg = Image.fromarray(imge)\n",
    "\n",
    "    # Convert the image to grayscale\n",
    "    grayscale_image = imgg.convert(\"L\")\n",
    "\n",
    "    # Enhance the contrast\n",
    "    enhanced_image = ImageEnhance.Contrast(grayscale_image).enhance(grayscale_contrast)\n",
    "\n",
    "    # Convert the image to RGB mode\n",
    "    rgb_image = enhanced_image.convert(\"RGB\")\n",
    "\n",
    "    # Lowering Brightness of image to check low light\n",
    "    rgb_image = ImageEnhance.Brightness(rgb_image).enhance(brightness)\n",
    "\n",
    "    # Split the image into individual color channels\n",
    "    r, g, b = rgb_image.split()\n",
    "\n",
    "    # Amplify the green color channel\n",
    "    amplified_r_channel = ImageEnhance.Brightness(r).enhance(amp_rc)\n",
    "    amplified_g_channel = ImageEnhance.Brightness(g).enhance(amp_gc)\n",
    "    amplified_b_channel = ImageEnhance.Brightness(b).enhance(amp_bc)\n",
    "\n",
    "    # Create a new RGB image using amplified green channel\n",
    "    night_vision_image = Image.merge(\"RGB\", (amplified_r_channel, amplified_g_channel, amplified_b_channel))\n",
    "\n",
    "    #VIGNETTE\n",
    "    input = asarray(night_vision_image)\n",
    "\n",
    "    # input\n",
    "    vig_img = vignette_new(input,3)\n",
    "\n",
    "    # Save the night vision image\n",
    "    # image2 = Image.fromarray(vig_img)\n",
    "    new_img = np.asarray(vig_img)\n",
    "\n",
    "    return vig_img\n"
   ]
  },
  {
   "cell_type": "code",
   "execution_count": null,
   "metadata": {},
   "outputs": [],
   "source": [
    "# define the path\n",
    "path = \"D:/Cat_id/yolo_eyes_nose_exp/data/classification_crop/from_effint/front_facing1/\"\n",
    "\n",
    "for files in os.listdir(path):\n",
    "    file = files.split(\".\")[0]\n",
    "    imge = cv2.imread(path + files )\n",
    "    nyt_img =   convert_to_night_vision_new(imge,grayscale_contrast=0.7,brightness = 0.65,amp_rc = 1.65,amp_gc = 1.0,amp_bc = 1.7)\n",
    "    cv2.imwrite(files , nyt_img)"
   ]
  }
 ],
 "metadata": {
  "language_info": {
   "name": "python"
  }
 },
 "nbformat": 4,
 "nbformat_minor": 2
}
