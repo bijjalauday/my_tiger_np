{
 "cells": [
  {
   "cell_type": "code",
   "execution_count": null,
   "metadata": {},
   "outputs": [],
   "source": []
  },
  {
   "cell_type": "markdown",
   "metadata": {},
   "source": [
    "### Lowering the FPS of a video"
   ]
  },
  {
   "cell_type": "markdown",
   "metadata": {},
   "source": [
    "Pass Input video path (input_video_path) , output video path (output_video_path) and the targeted FPS (target_fps) to the function \"decrease_fps\""
   ]
  },
  {
   "cell_type": "code",
   "execution_count": 2,
   "metadata": {},
   "outputs": [],
   "source": [
    "import cv2\n",
    "\n",
    "\n",
    "def decrease_fps(input_video_path, output_video_path, target_fps):\n",
    "    cap = cv2.VideoCapture(input_video_path)\n",
    "    fps = int(cap.get(cv2.CAP_PROP_FPS))\n",
    "    frame_width = int(cap.get(cv2.CAP_PROP_FRAME_WIDTH))\n",
    "    frame_height = int(cap.get(cv2.CAP_PROP_FRAME_HEIGHT))\n",
    "    total_frames = int(cap.get(cv2.CAP_PROP_FRAME_COUNT))\n",
    "    duration = total_frames / fps\n",
    "\n",
    "    fourcc = cv2.VideoWriter_fourcc(*'XVID')\n",
    "    out = cv2.VideoWriter(output_video_path, fourcc, target_fps, (frame_width, frame_height))\n",
    "\n",
    "    new_frame_interval = int(fps / target_fps)\n",
    "    \n",
    "    while True:\n",
    "        ret, frame = cap.read()\n",
    "        if not ret:\n",
    "            break\n",
    "        \n",
    "        out.write(frame)\n",
    "        \n",
    "        for _ in range(new_frame_interval - 1):\n",
    "            cap.read()\n",
    "\n",
    "    cap.release()\n",
    "    out.release()\n",
    "    cv2.destroyAllWindows()\n",
    "\n",
    "\n"
   ]
  },
  {
   "cell_type": "code",
   "execution_count": 3,
   "metadata": {},
   "outputs": [],
   "source": [
    "# 4 fps\n",
    "import os\n",
    "\n",
    "if __name__ == \"__main__\":\n",
    "    input_video_paths = \"D:/Cat_id/videos/all_approch_together/\"\n",
    "    output_video_paths = \"D:/Cat_id/videos/reduced_fps/4fps - Copy/\"\n",
    "    target_fps = 4  # Set your desired FPS here\n",
    "\n",
    "    for vid in os.listdir(input_video_paths):\n",
    "        input_video = input_video_paths + vid\n",
    "        output_video = output_video_paths +vid\n",
    "        decrease_fps(input_video, output_video, target_fps)"
   ]
  },
  {
   "cell_type": "code",
   "execution_count": 8,
   "metadata": {},
   "outputs": [],
   "source": [
    "# 8 fps\n",
    "import os\n",
    "\n",
    "if __name__ == \"__main__\":\n",
    "    input_video_paths = \"D:/Cat_id/videos/all_approch_together/\"\n",
    "    output_video_paths = \"D:/Cat_id/videos/reduced_fps/8fps/\"\n",
    "    target_fps = 8  # Set your desired FPS here\n",
    "\n",
    "    for vid in os.listdir(input_video_paths):\n",
    "        input_video = input_video_paths + vid\n",
    "        output_video = output_video_paths +vid\n",
    "        decrease_fps(input_video, output_video, target_fps)"
   ]
  },
  {
   "cell_type": "code",
   "execution_count": 4,
   "metadata": {},
   "outputs": [],
   "source": [
    "# 12 fps\n",
    "import os\n",
    "\n",
    "if __name__ == \"__main__\":\n",
    "    input_video_paths = \"D:/Cat_id/videos/all_approch_together/\"\n",
    "    output_video_paths = \"D:/Cat_id/videos/reduced_fps/12fps/\"\n",
    "    target_fps = 12  # Set your desired FPS here\n",
    "\n",
    "    for vid in os.listdir(input_video_paths):\n",
    "        input_video = input_video_paths + vid\n",
    "        output_video = output_video_paths +vid\n",
    "        decrease_fps(input_video, output_video, target_fps)"
   ]
  },
  {
   "cell_type": "code",
   "execution_count": null,
   "metadata": {},
   "outputs": [],
   "source": []
  }
 ],
 "metadata": {
  "kernelspec": {
   "display_name": "Python 3",
   "language": "python",
   "name": "python3"
  },
  "language_info": {
   "codemirror_mode": {
    "name": "ipython",
    "version": 3
   },
   "file_extension": ".py",
   "mimetype": "text/x-python",
   "name": "python",
   "nbconvert_exporter": "python",
   "pygments_lexer": "ipython3",
   "version": "3.8.13"
  },
  "orig_nbformat": 4
 },
 "nbformat": 4,
 "nbformat_minor": 2
}
