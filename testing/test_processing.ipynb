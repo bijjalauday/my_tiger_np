{
 "cells": [
  {
   "cell_type": "code",
   "execution_count": 2,
   "metadata": {},
   "outputs": [
    {
     "name": "stdout",
     "output_type": "stream",
     "text": [
      "              precision    recall  f1-score   support\n",
      "\n",
      "           0       0.72      0.85      0.78        89\n",
      "           1       0.83      0.87      0.85       136\n",
      "           2       0.88      0.79      0.84       227\n",
      "\n",
      "    accuracy                           0.83       452\n",
      "   macro avg       0.81      0.84      0.82       452\n",
      "weighted avg       0.83      0.83      0.83       452\n",
      "\n",
      "[[ 76   4   9]\n",
      " [  3 118  15]\n",
      " [ 26  21 180]]\n"
     ]
    }
   ],
   "source": [
    "import pandas as pd \n",
    "import os \n",
    "df=pd.DataFrame(columns=[\"name\",\"o_class\"])\n",
    "c=0\n",
    "for i in os.listdir(\"D:/cat_id/test/black_test\"):\n",
    "    j=i.split(\".jp\")[0]\n",
    "    if \"cat\" in j:\n",
    "        o=0\n",
    "    elif \"dog\" in j:\n",
    "        o=1\n",
    "    else:\n",
    "        o=2\n",
    "    df.loc[c]=[j,o]\n",
    "    c=c+1\n",
    "df1=pd.DataFrame(columns=[\"name\",\"p_class\"])\n",
    "c=0\n",
    "for i in os.listdir(\"D:/cat_id/yolov5_training_sharing/runs/detect/exp41/labels\"):\n",
    "    j=i.split(\".tx\")[0]\n",
    "    l=pd.read_csv(f\"D:/cat_id/yolov5_training_sharing/runs/detect/exp41/labels/{i}\",header=None,sep=\" \")\n",
    "    if l.iloc[0].values[0]==0:\n",
    "        p=0\n",
    "    else:\n",
    "        p=1\n",
    "    df1.loc[c]=[j,p]\n",
    "    c=c+1\n",
    "df4=df.merge(df1,on=\"name\",how=\"left\").fillna(2)\n",
    "from sklearn.metrics import confusion_matrix,classification_report \n",
    "print(classification_report(df4[\"o_class\"],df4[\"p_class\"]))\n",
    "print(confusion_matrix(df4[\"o_class\"],df4[\"p_class\"]))"
   ]
  },
  {
   "cell_type": "code",
   "execution_count": null,
   "metadata": {},
   "outputs": [],
   "source": []
  },
  {
   "cell_type": "code",
   "execution_count": null,
   "metadata": {},
   "outputs": [],
   "source": []
  },
  {
   "cell_type": "code",
   "execution_count": null,
   "metadata": {},
   "outputs": [],
   "source": []
  }
 ],
 "metadata": {
  "kernelspec": {
   "display_name": "npp-pet-id_1-dev",
   "language": "python",
   "name": "python3"
  },
  "language_info": {
   "codemirror_mode": {
    "name": "ipython",
    "version": 3
   },
   "file_extension": ".py",
   "mimetype": "text/x-python",
   "name": "python",
   "nbconvert_exporter": "python",
   "pygments_lexer": "ipython3",
   "version": "3.10.11"
  }
 },
 "nbformat": 4,
 "nbformat_minor": 2
}
