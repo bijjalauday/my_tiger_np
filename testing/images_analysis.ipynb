{
 "cells": [
  {
   "cell_type": "code",
   "execution_count": 26,
   "metadata": {},
   "outputs": [
    {
     "data": {
      "text/plain": [
       "1"
      ]
     },
     "execution_count": 26,
     "metadata": {},
     "output_type": "execute_result"
    }
   ],
   "source": [
    "import os\n",
    "import pandas as pd \n",
    "c=0\n",
    "for i in os.listdir(\"D:/cat_id/yolov5_training_sharing/runs/detect/exp10/labels\"):\n",
    "    if \".txt\" in i:\n",
    "        l=pd.read_csv(f\"D:/cat_id/yolov5_training_sharing/runs/detect/exp10/labels/{i}\",header=None,sep=\" \")\n",
    "        if l.iloc[0].values[0]==1:\n",
    "            if (l.iloc[0].values[5]>=0.6) & (l.iloc[0].values[5]<0.7):\n",
    "                c=c+1\n",
    "c"
   ]
  },
  {
   "cell_type": "code",
   "execution_count": 5,
   "metadata": {},
   "outputs": [
    {
     "data": {
      "text/plain": [
       "4"
      ]
     },
     "execution_count": 5,
     "metadata": {},
     "output_type": "execute_result"
    }
   ],
   "source": [
    "import os\n",
    "import pandas as pd \n",
    "c=0\n",
    "for i in os.listdir(\"D:/cat_id/yolov5_training_sharing/runs/detect/exp10/labels\"):\n",
    "    if \".txt\" in i:\n",
    "        l=pd.read_csv(f\"D:/cat_id/yolov5_training_sharing/runs/detect/exp10/labels/{i}\",header=None,sep=\" \")\n",
    "        if l.iloc[0].values[0]==0:\n",
    "            if (l.iloc[0].values[5]<0.6):\n",
    "                c=c+1\n",
    "c"
   ]
  },
  {
   "cell_type": "code",
   "execution_count": 2,
   "metadata": {},
   "outputs": [
    {
     "data": {
      "text/plain": [
       "4"
      ]
     },
     "execution_count": 2,
     "metadata": {},
     "output_type": "execute_result"
    }
   ],
   "source": [
    "import os\n",
    "import pandas as pd \n",
    "c=0\n",
    "for i in os.listdir(\"D:/cat_id/yolov5_training_sharing/runs/detect/exp10/labels\"):\n",
    "    if \".txt\" in i:\n",
    "        l=pd.read_csv(f\"D:/cat_id/yolov5_training_sharing/runs/detect/exp10/labels/{i}\",header=None,sep=\" \")\n",
    "        if l.iloc[0].values[0]==1:\n",
    "            c=c+1\n",
    "c"
   ]
  }
 ],
 "metadata": {
  "kernelspec": {
   "display_name": "npp-pet-id_1-dev",
   "language": "python",
   "name": "python3"
  },
  "language_info": {
   "codemirror_mode": {
    "name": "ipython",
    "version": 3
   },
   "file_extension": ".py",
   "mimetype": "text/x-python",
   "name": "python",
   "nbconvert_exporter": "python",
   "pygments_lexer": "ipython3",
   "version": "3.10.11"
  }
 },
 "nbformat": 4,
 "nbformat_minor": 2
}
