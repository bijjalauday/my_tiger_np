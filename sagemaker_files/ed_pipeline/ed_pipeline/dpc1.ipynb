{
 "cells": [
  {
   "cell_type": "code",
   "execution_count": 1,
   "metadata": {},
   "outputs": [],
   "source": [
    "import os\n",
    "import argparse\n",
    "from src.ta_pet_id.core.utils import get_package_path\n",
    "from src.ta_pet_id.core.base_utils import silence_all_warnings"
   ]
  },
  {
   "cell_type": "code",
   "execution_count": 8,
   "metadata": {},
   "outputs": [
    {
     "ename": "ModuleNotFoundError",
     "evalue": "No module named 'ta_pet_id'",
     "output_type": "error",
     "traceback": [
      "\u001b[1;31m---------------------------------------------------------------------------\u001b[0m",
      "\u001b[1;31mModuleNotFoundError\u001b[0m                       Traceback (most recent call last)",
      "Cell \u001b[1;32mIn[8], line 3\u001b[0m\n\u001b[0;32m      1\u001b[0m \u001b[39mimport\u001b[39;00m \u001b[39mpandas\u001b[39;00m \u001b[39mas\u001b[39;00m \u001b[39mpd\u001b[39;00m\n\u001b[0;32m      2\u001b[0m \u001b[39mfrom\u001b[39;00m \u001b[39msrc\u001b[39;00m\u001b[39m.\u001b[39;00m\u001b[39mta_pet_id\u001b[39;00m\u001b[39m.\u001b[39;00m\u001b[39mcore\u001b[39;00m\u001b[39m.\u001b[39;00m\u001b[39mcontext\u001b[39;00m \u001b[39mimport\u001b[39;00m create_context \u001b[39mas\u001b[39;00m _create_context\n\u001b[1;32m----> 3\u001b[0m \u001b[39mfrom\u001b[39;00m \u001b[39msrc\u001b[39;00m\u001b[39m.\u001b[39;00m\u001b[39mta_pet_id\u001b[39;00m\u001b[39m.\u001b[39;00m\u001b[39mpipeline\u001b[39;00m\u001b[39m.\u001b[39;00m\u001b[39mmain\u001b[39;00m \u001b[39mimport\u001b[39;00m (enroll_pet \u001b[39mas\u001b[39;00m _enroll_pet,\n\u001b[0;32m      4\u001b[0m                                      infer_pet_id \u001b[39mas\u001b[39;00m _infer_pet_id,\n\u001b[0;32m      5\u001b[0m                                      train_efficientnet \u001b[39mas\u001b[39;00m _train_efficientnet,\n\u001b[0;32m      6\u001b[0m                                      train_yolo \u001b[39mas\u001b[39;00m _train_yolo)\n\u001b[0;32m      7\u001b[0m \u001b[39mfrom\u001b[39;00m \u001b[39msrc\u001b[39;00m\u001b[39m.\u001b[39;00m\u001b[39mta_pet_id\u001b[39;00m\u001b[39m.\u001b[39;00m\u001b[39mdata_prep\u001b[39;00m \u001b[39mimport\u001b[39;00m db_utils\n\u001b[0;32m      8\u001b[0m \u001b[39mfrom\u001b[39;00m \u001b[39msrc\u001b[39;00m\u001b[39m.\u001b[39;00m\u001b[39mta_pet_id\u001b[39;00m\u001b[39m.\u001b[39;00m\u001b[39mdata_prep\u001b[39;00m \u001b[39mimport\u001b[39;00m core\n",
      "File \u001b[1;32mc:\\Users\\uday.bijjala\\cat_visual_id-master\\cat_visual_id-master\\src\\ta_pet_id\\pipeline\\main.py:11\u001b[0m\n\u001b[0;32m      8\u001b[0m \u001b[39mimport\u001b[39;00m \u001b[39mpandas\u001b[39;00m \u001b[39mas\u001b[39;00m \u001b[39mpd\u001b[39;00m\n\u001b[0;32m      9\u001b[0m \u001b[39mfrom\u001b[39;00m \u001b[39mdatetime\u001b[39;00m \u001b[39mimport\u001b[39;00m datetime \u001b[39mas\u001b[39;00m _datetime\n\u001b[1;32m---> 11\u001b[0m \u001b[39mfrom\u001b[39;00m \u001b[39msrc\u001b[39;00m\u001b[39m.\u001b[39;00m\u001b[39mta_pet_id\u001b[39;00m\u001b[39m.\u001b[39;00m\u001b[39mpipeline\u001b[39;00m \u001b[39mimport\u001b[39;00m efficientnet, matcher, yolo\n\u001b[0;32m     14\u001b[0m \u001b[39mdef\u001b[39;00m \u001b[39menroll_pet\u001b[39m(\n\u001b[0;32m     15\u001b[0m     context, house_id, house_df, efficientnet_model\u001b[39m=\u001b[39m\u001b[39mNone\u001b[39;00m, yolo_model_objs\u001b[39m=\u001b[39m\u001b[39mNone\u001b[39;00m\n\u001b[0;32m     16\u001b[0m ):\n\u001b[0;32m     17\u001b[0m     \u001b[39m\"\"\"\u001b[39;00m\n\u001b[0;32m     18\u001b[0m \u001b[39m    Enroll pets of a household based on the given images of each pet\u001b[39;00m\n\u001b[0;32m     19\u001b[0m \n\u001b[1;32m   (...)\u001b[0m\n\u001b[0;32m     43\u001b[0m \u001b[39m    >>> enroll_pet(context_obj, house_id, house_df)\u001b[39;00m\n\u001b[0;32m     44\u001b[0m \u001b[39m    \"\"\"\u001b[39;00m\n",
      "File \u001b[1;32mc:\\Users\\uday.bijjala\\cat_visual_id-master\\cat_visual_id-master\\src\\ta_pet_id\\pipeline\\efficientnet.py:12\u001b[0m\n\u001b[0;32m     10\u001b[0m \u001b[39mfrom\u001b[39;00m \u001b[39msrc\u001b[39;00m\u001b[39m.\u001b[39;00m\u001b[39mta_pet_id\u001b[39;00m\u001b[39m.\u001b[39;00m\u001b[39mdata_prep\u001b[39;00m \u001b[39mimport\u001b[39;00m db_utils\n\u001b[0;32m     11\u001b[0m \u001b[39mfrom\u001b[39;00m \u001b[39msrc\u001b[39;00m\u001b[39m.\u001b[39;00m\u001b[39mta_pet_id\u001b[39;00m\u001b[39m.\u001b[39;00m\u001b[39mefficientnet\u001b[39;00m \u001b[39mimport\u001b[39;00m dataloader, siamese_model\n\u001b[1;32m---> 12\u001b[0m \u001b[39mfrom\u001b[39;00m \u001b[39msrc\u001b[39;00m\u001b[39m.\u001b[39;00m\u001b[39mta_pet_id\u001b[39;00m\u001b[39m.\u001b[39;00m\u001b[39mpipeline\u001b[39;00m \u001b[39mimport\u001b[39;00m yolo\n\u001b[0;32m     14\u001b[0m os\u001b[39m.\u001b[39menviron[\u001b[39m\"\u001b[39m\u001b[39mTF_FORCE_GPU_ALLOW_GROWTH\u001b[39m\u001b[39m\"\u001b[39m] \u001b[39m=\u001b[39m \u001b[39m\"\u001b[39m\u001b[39mtrue\u001b[39m\u001b[39m\"\u001b[39m\n\u001b[0;32m     15\u001b[0m mirrored_strategy \u001b[39m=\u001b[39m tf\u001b[39m.\u001b[39mdistribute\u001b[39m.\u001b[39mMirroredStrategy(\n\u001b[0;32m     16\u001b[0m     cross_device_ops\u001b[39m=\u001b[39mtf\u001b[39m.\u001b[39mdistribute\u001b[39m.\u001b[39mHierarchicalCopyAllReduce()\n\u001b[0;32m     17\u001b[0m )\n",
      "File \u001b[1;32mc:\\Users\\uday.bijjala\\cat_visual_id-master\\cat_visual_id-master\\src\\ta_pet_id\\pipeline\\yolo.py:10\u001b[0m\n\u001b[0;32m      8\u001b[0m \u001b[39mfrom\u001b[39;00m \u001b[39msrc\u001b[39;00m\u001b[39m.\u001b[39;00m\u001b[39mta_pet_id\u001b[39;00m\u001b[39m.\u001b[39;00m\u001b[39mdata_prep\u001b[39;00m \u001b[39mimport\u001b[39;00m db_utils\n\u001b[0;32m      9\u001b[0m \u001b[39mfrom\u001b[39;00m \u001b[39msrc\u001b[39;00m\u001b[39m.\u001b[39;00m\u001b[39mta_pet_id\u001b[39;00m\u001b[39m.\u001b[39;00m\u001b[39myolo\u001b[39;00m \u001b[39mimport\u001b[39;00m data_prep\n\u001b[1;32m---> 10\u001b[0m \u001b[39mfrom\u001b[39;00m \u001b[39msrc\u001b[39;00m\u001b[39m.\u001b[39;00m\u001b[39mta_pet_id\u001b[39;00m\u001b[39m.\u001b[39;00m\u001b[39myolo\u001b[39;00m\u001b[39m.\u001b[39;00m\u001b[39mdetect\u001b[39;00m \u001b[39mimport\u001b[39;00m yolo_detect \u001b[39mas\u001b[39;00m _yolo_detect\n\u001b[0;32m     11\u001b[0m \u001b[39mfrom\u001b[39;00m \u001b[39msrc\u001b[39;00m\u001b[39m.\u001b[39;00m\u001b[39mta_pet_id\u001b[39;00m\u001b[39m.\u001b[39;00m\u001b[39myolo\u001b[39;00m\u001b[39m.\u001b[39;00m\u001b[39mmodels\u001b[39;00m\u001b[39m.\u001b[39;00m\u001b[39mcommon\u001b[39;00m \u001b[39mimport\u001b[39;00m (\n\u001b[0;32m     12\u001b[0m     DetectMultiBackend \u001b[39mas\u001b[39;00m _DetectMultiBackend,\n\u001b[0;32m     13\u001b[0m )\n\u001b[0;32m     14\u001b[0m \u001b[39mfrom\u001b[39;00m \u001b[39msrc\u001b[39;00m\u001b[39m.\u001b[39;00m\u001b[39mta_pet_id\u001b[39;00m\u001b[39m.\u001b[39;00m\u001b[39myolo\u001b[39;00m\u001b[39m.\u001b[39;00m\u001b[39mtrain\u001b[39;00m \u001b[39mimport\u001b[39;00m run \u001b[39mas\u001b[39;00m _run\n",
      "File \u001b[1;32mc:\\Users\\uday.bijjala\\cat_visual_id-master\\cat_visual_id-master\\src\\ta_pet_id\\yolo\\detect.py:3\u001b[0m\n\u001b[0;32m      1\u001b[0m \u001b[39mimport\u001b[39;00m \u001b[39mtorch\u001b[39;00m\n\u001b[1;32m----> 3\u001b[0m \u001b[39mfrom\u001b[39;00m \u001b[39msrc\u001b[39;00m\u001b[39m.\u001b[39;00m\u001b[39mta_pet_id\u001b[39;00m\u001b[39m.\u001b[39;00m\u001b[39myolo\u001b[39;00m\u001b[39m.\u001b[39;00m\u001b[39mutils\u001b[39;00m\u001b[39m.\u001b[39;00m\u001b[39mdatasets\u001b[39;00m \u001b[39mimport\u001b[39;00m Custom_LoadImages\n\u001b[0;32m      4\u001b[0m \u001b[39mfrom\u001b[39;00m \u001b[39msrc\u001b[39;00m\u001b[39m.\u001b[39;00m\u001b[39mta_pet_id\u001b[39;00m\u001b[39m.\u001b[39;00m\u001b[39myolo\u001b[39;00m\u001b[39m.\u001b[39;00m\u001b[39mutils\u001b[39;00m\u001b[39m.\u001b[39;00m\u001b[39mgeneral\u001b[39;00m \u001b[39mimport\u001b[39;00m (\n\u001b[0;32m      5\u001b[0m     check_img_size,\n\u001b[0;32m      6\u001b[0m     non_max_suppression,\n\u001b[0;32m      7\u001b[0m     scale_coords,\n\u001b[0;32m      8\u001b[0m )\n\u001b[0;32m      9\u001b[0m \u001b[39mfrom\u001b[39;00m \u001b[39msrc\u001b[39;00m\u001b[39m.\u001b[39;00m\u001b[39mta_pet_id\u001b[39;00m\u001b[39m.\u001b[39;00m\u001b[39myolo\u001b[39;00m\u001b[39m.\u001b[39;00m\u001b[39mutils\u001b[39;00m\u001b[39m.\u001b[39;00m\u001b[39mtorch_utils\u001b[39;00m \u001b[39mimport\u001b[39;00m time_sync\n",
      "File \u001b[1;32mc:\\Users\\uday.bijjala\\cat_visual_id-master\\cat_visual_id-master\\src\\ta_pet_id\\yolo\\utils\\datasets.py:21\u001b[0m\n\u001b[0;32m     18\u001b[0m \u001b[39mfrom\u001b[39;00m \u001b[39mtqdm\u001b[39;00m \u001b[39mimport\u001b[39;00m tqdm\n\u001b[0;32m     20\u001b[0m \u001b[39m# from ta_pet_id.yolo.utils.augmentations import Albumentations, augment_hsv, copy_paste, letterbox, mixup, random_perspective\u001b[39;00m\n\u001b[1;32m---> 21\u001b[0m \u001b[39mfrom\u001b[39;00m \u001b[39mta_pet_id\u001b[39;00m\u001b[39m.\u001b[39;00m\u001b[39myolo\u001b[39;00m\u001b[39m.\u001b[39;00m\u001b[39mutils\u001b[39;00m\u001b[39m.\u001b[39;00m\u001b[39maugmentations\u001b[39;00m \u001b[39mimport\u001b[39;00m letterbox\n\u001b[0;32m     23\u001b[0m \u001b[39m# copy_paste, letterbox, mixup, random_perspective\u001b[39;00m\n\u001b[0;32m     24\u001b[0m \u001b[39mfrom\u001b[39;00m \u001b[39mta_pet_id\u001b[39;00m\u001b[39m.\u001b[39;00m\u001b[39myolo\u001b[39;00m\u001b[39m.\u001b[39;00m\u001b[39mutils\u001b[39;00m\u001b[39m.\u001b[39;00m\u001b[39mgeneral\u001b[39;00m \u001b[39mimport\u001b[39;00m (\n\u001b[0;32m     25\u001b[0m     LOGGER,\n\u001b[0;32m     26\u001b[0m     check_dataset,\n\u001b[1;32m   (...)\u001b[0m\n\u001b[0;32m     33\u001b[0m     xyxy2xywhn,\n\u001b[0;32m     34\u001b[0m )\n",
      "\u001b[1;31mModuleNotFoundError\u001b[0m: No module named 'ta_pet_id'"
     ]
    }
   ],
   "source": [
    "import pandas as pd\n",
    "from src.ta_pet_id.core.context import create_context as _create_context\n",
    "from src.ta_pet_id.pipeline.main import (enroll_pet as _enroll_pet,\n",
    "                                     infer_pet_id as _infer_pet_id,\n",
    "                                     train_efficientnet as _train_efficientnet,\n",
    "                                     train_yolo as _train_yolo)\n",
    "from src.ta_pet_id.data_prep import db_utils\n",
    "from src.ta_pet_id.data_prep import core\n",
    "from src.ta_pet_id.pipeline import yolo, efficientnet\n",
    "from src.ta_pet_id.evaluation.report import get_pipeline_eval_report as _get_pipeline_eval_report"
   ]
  },
  {
   "cell_type": "code",
   "execution_count": 6,
   "metadata": {},
   "outputs": [],
   "source": [
    "import src.ta_pet_id as ta_pet_id "
   ]
  },
  {
   "cell_type": "code",
   "execution_count": null,
   "metadata": {},
   "outputs": [],
   "source": []
  }
 ],
 "metadata": {
  "kernelspec": {
   "display_name": "Python 3",
   "language": "python",
   "name": "python3"
  },
  "language_info": {
   "codemirror_mode": {
    "name": "ipython",
    "version": 3
   },
   "file_extension": ".py",
   "mimetype": "text/x-python",
   "name": "python",
   "nbconvert_exporter": "python",
   "pygments_lexer": "ipython3",
   "version": "3.9.16"
  },
  "orig_nbformat": 4
 },
 "nbformat": 4,
 "nbformat_minor": 2
}
